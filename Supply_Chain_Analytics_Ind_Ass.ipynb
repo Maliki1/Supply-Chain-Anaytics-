{
  "nbformat": 4,
  "nbformat_minor": 0,
  "metadata": {
    "colab": {
      "provenance": [],
      "include_colab_link": true
    },
    "kernelspec": {
      "name": "python3",
      "display_name": "Python 3"
    },
    "language_info": {
      "name": "python"
    }
  },
  "cells": [
    {
      "cell_type": "markdown",
      "metadata": {
        "id": "view-in-github",
        "colab_type": "text"
      },
      "source": [
        "<a href=\"https://colab.research.google.com/github/Maliki1/Supply-Chain-Anaytics-/blob/main/Supply_Chain_Analytics_Ind_Ass.ipynb\" target=\"_parent\"><img src=\"https://colab.research.google.com/assets/colab-badge.svg\" alt=\"Open In Colab\"/></a>"
      ]
    },
    {
      "cell_type": "markdown",
      "source": [
        "**Sub-task 1: Products are sourced independently**\n",
        "\n"
      ],
      "metadata": {
        "id": "gThbUx9yXOrX"
      }
    },
    {
      "cell_type": "code",
      "execution_count": 9,
      "metadata": {
        "colab": {
          "base_uri": "https://localhost:8080/"
        },
        "id": "v340xQQFVWeS",
        "outputId": "268eb960-a5da-454d-f8e8-1179db2047f5"
      },
      "outputs": [
        {
          "output_type": "stream",
          "name": "stdout",
          "text": [
            "Annual operational cost for independent sourcing: $3073.92\n"
          ]
        }
      ],
      "source": [
        "import math\n",
        "\n",
        "# Product data\n",
        "products = [\n",
        "    {'demand': 1000, 'specific_cost': 110, 'unit_cost': 50, 'holding_rate': 0.2},\n",
        "    {'demand': 300, 'specific_cost': 120, 'unit_cost': 60, 'holding_rate': 0.2},\n",
        "    {'demand': 100, 'specific_cost': 125, 'unit_cost': 30, 'holding_rate': 0.2},\n",
        "    {'demand': 50, 'specific_cost': 125, 'unit_cost': 30, 'holding_rate': 0.2}\n",
        "]\n",
        "\n",
        "total_cost = 0\n",
        "\n",
        "# Iterate over each product\n",
        "for product in products:\n",
        "    demand = product['demand']\n",
        "    specific_cost = product['specific_cost']\n",
        "    unit_cost = product['unit_cost']\n",
        "    holding_rate = product['holding_rate']\n",
        "    holding_cost = holding_rate * unit_cost\n",
        "\n",
        "    # Calculate EOQ and order frequency\n",
        "    eoq = math.sqrt(2 * demand * specific_cost / holding_cost)\n",
        "    order_freq = demand / eoq\n",
        "\n",
        "    # Calculate annual holding and ordering costs\n",
        "    annual_holding_cost = (eoq / 2) * holding_cost\n",
        "    annual_ordering_cost = specific_cost * order_freq\n",
        "\n",
        "    # Add to total cost\n",
        "    total_cost += annual_holding_cost + annual_ordering_cost\n",
        "\n",
        "print(f\"Annual operational cost for independent sourcing: ${total_cost:.2f}\")\n",
        "\n",
        "# Annual operational cost for independent sourcing: $3073.92"
      ]
    },
    {
      "cell_type": "markdown",
      "source": [
        "**Sub-task 2: All four products are sourced with the same frequency**\n"
      ],
      "metadata": {
        "id": "BX1JO8aZXrPP"
      }
    },
    {
      "cell_type": "code",
      "source": [
        "import math\n",
        "\n",
        "# Summing all costs together\n",
        "All_costs = 100+ 10 + 20 + 25 + 25\n",
        "\n",
        "products = {\n",
        "    \"1\": {\"demand\": 1000, \"holding_rate\": 0.2, \"unit_cost\": 50},\n",
        "    \"2\": {\"demand\": 300, \"holding_rate\": 0.2, \"unit_cost\": 60},\n",
        "    \"3\": {\"demand\": 100, \"holding_rate\": 0.2, \"unit_cost\": 30},\n",
        "    \"4\": {\"demand\": 50, \"holding_rate\": 0.2, \"unit_cost\": 30}\n",
        "}\n",
        "\n",
        "nom = sum([details[\"demand\"] * details[\"holding_rate\"] * details[\"unit_cost\"] for details in products.values()])\n",
        "oq = math.sqrt(nom / (2 * All_costs))\n",
        "\n",
        "for product, details in products.items():\n",
        "    details[\"Optimal Order Size\"] = details[\"demand\"] / oq\n",
        "    details[\"Annual Holding Cost\"] = details[\"Optimal Order Size\"] * details[\"holding_rate\"] * details[\"unit_cost\"] / 2\n",
        "\n",
        "annual_order_cost_aggregation = oq * All_costs\n",
        "total_annual_cost_aggregation = annual_order_cost_aggregation + sum([details[\"Annual Holding Cost\"] for details in products.values()])\n",
        "\n",
        "order_frequency_aggregation = oq\n",
        "for product in products:\n",
        "    products[product][\"Order Frequency\"] = order_frequency_aggregation\n",
        "\n",
        "\n",
        "print(f\"Annual operational four products are sourced with the same frequency: ${total_annual_cost_aggregation:.2f}\")\n",
        "\n",
        "#Annual operational four products are sourced with the same frequency: $2284.73"
      ],
      "metadata": {
        "colab": {
          "base_uri": "https://localhost:8080/"
        },
        "id": "695-nqoynToR",
        "outputId": "e66479f4-6486-40af-8666-dba1d087cd05"
      },
      "execution_count": 10,
      "outputs": [
        {
          "output_type": "stream",
          "name": "stdout",
          "text": [
            "Annual operational four products are sourced with the same frequency: $2284.73\n"
          ]
        }
      ]
    },
    {
      "cell_type": "markdown",
      "source": [
        "**Sub-task 3: Order frequencies are determined according to the tailored aggregation strategy**\n"
      ],
      "metadata": {
        "id": "EzAX1QOjJ0Lg"
      }
    },
    {
      "cell_type": "code",
      "source": [
        "import numpy as np\n",
        "\n",
        "annual_demand = np.array([1000, 300, 100, 50])  # Annual demand for the products\n",
        "product_ordering_costs = np.array([10, 20, 25, 25])  # Product-specific ordering costs\n",
        "product_unit_costs = np.array([50, 60, 30, 30])  # Cost per unit for each product\n",
        "inventory_holding_rate = 0.2  # Rate at which holding cost is incurred\n",
        "shared_ordering_cost = 100  # Common ordering cost across all products\n",
        "\n",
        "# Calculating the holding costs per product\n",
        "storage_costs = inventory_holding_rate * product_unit_costs\n",
        "\n",
        "# Grouped products for the aggregation strategy\n",
        "group_indices = [0, 1]\n",
        "\n",
        "# Function to calculate costs for  products in the group\n",
        "def compute_costs(indices, demand, storage_costs, ordering_costs, common_cost):\n",
        "    aggregated_demand = demand[indices].sum()\n",
        "    avg_holding_cost = storage_costs[indices].mean()\n",
        "    total_ordering_cost = ordering_costs[indices].sum() + common_cost\n",
        "    economic_order_qty = np.sqrt((2 * aggregated_demand * total_ordering_cost) / avg_holding_cost)\n",
        "    group_total_cost = (aggregated_demand / economic_order_qty) * total_ordering_cost + (economic_order_qty / 2) * avg_holding_cost\n",
        "    return group_total_cost, economic_order_qty\n",
        "\n",
        "# Computing total cost and EOQ for the defined group\n",
        "group_cost, group_eoq = compute_costs(group_indices, annual_demand, storage_costs, product_ordering_costs, shared_ordering_cost)\n",
        "\n",
        "# Overall tailored cost is the sum of group costs and their EOQs\n",
        "overall_tailored_cost = group_cost + group_eoq\n",
        "\n",
        "# Displaying the total tailored cost for the group and its EOQ\n",
        "print(f\"Overall Tailored Cost: ${overall_tailored_cost:.2f}\")\n",
        "\n",
        "# Overall Tailored Cost: $2103.50"
      ],
      "metadata": {
        "colab": {
          "base_uri": "https://localhost:8080/"
        },
        "id": "1gGi2-upLO0n",
        "outputId": "62616c64-2dff-46d1-fa1b-1201068ccbd6"
      },
      "execution_count": 11,
      "outputs": [
        {
          "output_type": "stream",
          "name": "stdout",
          "text": [
            "Overall Tailored Cost: $2103.50\n"
          ]
        }
      ]
    }
  ]
}